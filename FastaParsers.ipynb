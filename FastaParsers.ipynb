{
 "cells": [
  {
   "cell_type": "markdown",
   "metadata": {},
   "source": [
    "# Parsing files is routine in bioinformatics.\n",
    "\n",
    "### A FASTA file is a descriptive file format that provides genomic sequence data along with a single line line annotation as a header, beginning with the \">\" symbol. These may be merged to for massive multi-FASTA files with one or more samples.\n",
    "\n",
    "URL for more info = https://blast.ncbi.nlm.nih.gov/Blast.cgi?CMD=Web&PAGE_TYPE=BlastDocs&DOC_TYPE=BlastHelp\n",
    "\n",
    "\n",
    "\n",
    "\n",
    "### Let's take a look at a multi-FASTA file from a microbiome experiment"
   ]
  },
  {
   "cell_type": "code",
   "execution_count": 41,
   "metadata": {},
   "outputs": [
    {
     "name": "stdout",
     "output_type": "stream",
     "text": [
      ">F475VFN02IOTX6 rank=0009189 x=3446.5 y=780.0 length=372\r\n",
      "AGAGTTTGATCCTGGCTCAGATTGAACGCTGGCGGCAGGCTTAACACATGCAAGTCGAGC\r\n",
      "GGTAACAGGGGAGGCTTGCTCCTGCTGACGAGCGGCGGACGGGTGAGTAACGCGTAGGAA\r\n",
      "TCTGCCTAGTAGAGGGGACGAACATGTGGAAACGACATGCTAATAACCGCCATACGCCCT\r\n",
      "AACGGGGGAAAGGGAAGGGGACGGTTTTACGGTAGGCCTTCCGCCTATTAGATGAGCCTG\r\n",
      "CGTAAGATTAGCTAGTTGGTAGGGTAAAGGGACCGTACCAAGCGACGATCTTTAACTGTC\r\n",
      "TGAGAGGAGTGACCAGTCACACTGGGACGTGAGACACGGCCCACGACTCCTACGGGAGGC\r\n",
      "AGCAGGTTGGTT\r\n",
      ">F475VFN02HA2JP rank=0015150 x=2879.5 y=1555.0 length=367\r\n",
      "AGAGTTTGATCCTGGCTCAGATTGAACGCTGGCGGCAGGCCTAACACATGCAAGTCGAGC\r\n",
      "GGCAGCGACAACATTGAACCTTCGGGAGATTTGTTGGGCGGCGAGCGGCGGACGGGTGAG\r\n",
      "TAATGCCTGGGAAATTGCCCTGATGTGGGGGATAACCATTGGAACGATGGCTAATACCGC\r\n",
      "ATGATAGCTTCGGCTCAAAGAGAGGGACCTTCGGGCCTCTCGCGTCAGGATATGCCCAGG\r\n",
      "TGGGATTAGCTAGTTGGTGAGGTAAGGGCTCACCAAGGCGACGATCCCTAGCTGGTCTGA\r\n",
      "GAGGATGATCAGCCACACTGGAACTGAGACACGGTCCAGACTCCTACGGGAGGCAGCAGG\r\n",
      "GTTGGTT\r\n",
      ">F475VFN02IV79U rank=0015459 x=3530.0 y=1872.0 length=377\r\n",
      "AGAGTTTGATCCTGGCTCAGGATGAACGCTGGCGGCGTGCTTAACACATGCAAGTCGAAC\r\n",
      "GAAGCACTTTGATCGATTTCTTCGGAATGAAGTTTTAGTGACCGAGTGGCGGACGGGTGA\r\n",
      "GTAACGCGTGGGTAACCTGCCTCACACAGGGGGAGTAACAGTTGGAAACGGACTGCTAAT\r\n",
      "ACCGCATAAGCGCACAGTACCGCATGGTACAGTGTGAAAAACTACCGGTGGTGTGAGATG\r\n",
      "GACCCGCGTCTGATTAGCTAGTTGGCAGGATAACGGCCTACCAAGGCGACGATCAGTAGC\r\n",
      "CGACCTGAGCGGGTGACCGGCCACATTTGGGACGTGAGACACGGCCCAAACTCCTACGGG\r\n",
      "AGGCAGCAGGGTTGGTT\r\n"
     ]
    }
   ],
   "source": [
    "!head -n 24 BINF6112.lab.multi.fa"
   ]
  },
  {
   "cell_type": "code",
   "execution_count": 42,
   "metadata": {},
   "outputs": [
    {
     "name": "stdout",
     "output_type": "stream",
     "text": [
      "    6804\r\n"
     ]
    }
   ],
   "source": [
    "!grep '>' BINF6112.lab.multi.fa | wc -l"
   ]
  },
  {
   "cell_type": "code",
   "execution_count": null,
   "metadata": {},
   "outputs": [],
   "source": [
    "class Fasta:\n",
    "    def __init__(self, infile):\n",
    "        self.mydict = {}\n",
    "        self.infile = infile\n",
    "        self.accession = \"\"\n",
    "        self.rank = \"\"\n",
    "        self.sequence = \"\"\n",
    "        self.length = 0\n",
    "        self.x = 0.0\n",
    "        self.y = 0.0\n",
    "        self.GCcontent = None\n",
    "        if self.infile != None:\n",
    "            with open(self.infile, 'r') as fa:\n",
    "                for line in fa.readlines():\n",
    "                    if not line.startswith('>'):\n",
    "                        self.sequence = self.sequence + line.rstrip()\n",
    "                    elif line.startswith('>'):\n",
    "                        self.accession = line.split()[0].lstrip('>')\n",
    "                        self.rank = line.split()[1].split('=')[1]\n",
    "                        self.x = line.split()[2].split('=')[1]\n",
    "                        self.y = line.split()[3].split('=')[1]\n",
    "                        self.length = line.split()[4].split('=')[1]  "
   ]
  },
  {
   "cell_type": "markdown",
   "metadata": {},
   "source": [
    "### Let's provide some access methods to the class!\n",
    "\n",
    "### Access methods should usually return something, in this case the data stored for each instance variable."
   ]
  },
  {
   "cell_type": "code",
   "execution_count": null,
   "metadata": {},
   "outputs": [],
   "source": [
    "    def getSeq(self):\n",
    "        return self.sequence\n",
    "    \n",
    "    def getRank(self):\n",
    "        return self.rank\n",
    "\n",
    "    def getLength(self):\n",
    "        return self.length   \n",
    "    \n",
    "    def getAccession(self):\n",
    "        return self.accession\n",
    "    \n",
    "    def getX(self):\n",
    "        return self.x\n",
    "\n",
    "    def getY(self):\n",
    "        return self.y\n",
    "\n"
   ]
  },
  {
   "cell_type": "markdown",
   "metadata": {},
   "source": [
    "### Wait, what if we want to generate empty Fasta objects and set the variables later?\n",
    "\n",
    "### Step 1: We need to adjust our __init__ method to make file parsing optional!"
   ]
  },
  {
   "cell_type": "code",
   "execution_count": null,
   "metadata": {},
   "outputs": [],
   "source": [
    "class Fasta:\n",
    "    def __init__(self, infile = None):\n",
    "        self.infile = infile\n",
    "        self.accession = \"\"\n",
    "        self.rank = \"\"\n",
    "        self.sequence = \"\"\n",
    "        self.length = 0\n",
    "        self.x = 0.0\n",
    "        self.y = 0.0\n",
    "        self.GCcontent = None\n",
    "        if self.infile != None:\n",
    "            with open(self.infile, 'r') as fa:\n",
    "                for line in fa.readlines():\n",
    "                    if not line.startswith('>'):\n",
    "                        self.sequence = self.sequence + line.rstrip()\n",
    "                    elif line.startswith('>'):\n",
    "                        self.accession = line.split()[0].lstrip('>')\n",
    "                        self.rank = line.split()[1].split('=')[1]\n",
    "                        self.x = line.split()[2].split('=')[1]\n",
    "                        self.y = line.split()[3].split('=')[1]\n",
    "                        self.length = line.split()[4].split('=')[1]  "
   ]
  },
  {
   "cell_type": "markdown",
   "metadata": {},
   "source": [
    "### Wait, what if we want to generate empty Fasta objects and set the variables later?\n",
    "\n",
    "### Step 2: Write setter methods to assign data to the instance variables!"
   ]
  },
  {
   "cell_type": "code",
   "execution_count": null,
   "metadata": {},
   "outputs": [],
   "source": [
    "    def setSeq(self,seq):\n",
    "        self.sequence = self.sequence + line.rstrip()   \n",
    "        \n",
    "    def setRank(self,line):\n",
    "        self.rank = line.split()[1].split('=')[1]\n",
    "    \n",
    "    def setLength(self,line):\n",
    "        self.Length = line.split()[4].split('=')[1] \n",
    "        \n",
    "    def setAccession(self,line):\n",
    "        self.accession = line.split()[0].lstrip('>')\n",
    "    \n",
    "    def setX(self,line):\n",
    "        self.x = line.split()[2].split('=')[1]\n",
    "        \n",
    "    def setY(self,line):\n",
    "        self.y = line.split()[3].split('=')[1]\n",
    "    \n",
    "    def setGC(self):\n",
    "        if self.GCcontent == None:\n",
    "            print(\"Running gcCalculator on \" + self.accession)\n",
    "            self.GCcontent = gcCalculator(self.sequence)\n",
    "        return self.GCcontent"
   ]
  },
  {
   "cell_type": "markdown",
   "metadata": {},
   "source": [
    "## How should we make our object look when rendered by the Python interpreter? \n",
    "\n",
    "### We can define the special \\_\\_repr\\_\\_( ) method to handle this!\n",
    "\n"
   ]
  },
  {
   "cell_type": "code",
   "execution_count": null,
   "metadata": {},
   "outputs": [],
   "source": [
    "    def __repr__(self):\n",
    "        return \"A fasta object for: \" + self.accession + \" at X = \" + self.x + \" and Y = \" + self.y\n"
   ]
  },
  {
   "cell_type": "markdown",
   "metadata": {},
   "source": [
    "### Let's put all of that together to see our whole class."
   ]
  },
  {
   "cell_type": "code",
   "execution_count": 40,
   "metadata": {},
   "outputs": [],
   "source": [
    "\n",
    "class Fasta:\n",
    "    def __init__(self, infile=None):\n",
    "        self.infile = infile\n",
    "        self.accession = \"\"\n",
    "        self.rank = \"\"\n",
    "        self.sequence = \"\"\n",
    "        self.length = 0\n",
    "        self.x = 0.0\n",
    "        self.y = 0.0\n",
    "        self.GCcontent = None\n",
    "        if self.infile != None:\n",
    "            with open(self.infile, 'r') as fa:\n",
    "                for line in fa.readlines():\n",
    "                    if not line.startswith('>'):\n",
    "                        self.sequence = self.sequence + line.rstrip()\n",
    "                    elif line.startswith('>'):\n",
    "                        self.accession = line.split()[0].lstrip('>')\n",
    "                        self.rank = line.split()[1].split('=')[1]\n",
    "                        self.x = line.split()[2].split('=')[1]\n",
    "                        self.y = line.split()[3].split('=')[1]\n",
    "                        self.length = line.split()[4].split('=')[1]    \n",
    "    def getSeq(self):\n",
    "        return self.sequence\n",
    "    \n",
    "    def setSeq(self,seq):\n",
    "        self.sequence = self.sequence + line.rstrip()\n",
    "    \n",
    "    def getRank(self):\n",
    "        return self.rank\n",
    "    \n",
    "    def setRank(self,line):\n",
    "        self.rank = line.split()[1].split('=')[1]\n",
    "    \n",
    "    def getLength(self):\n",
    "        return self.length\n",
    "        \n",
    "    def setLength(self,line):\n",
    "        self.Length = line.split()[4].split('=')[1]    \n",
    "    \n",
    "    def getAccession(self):\n",
    "        return self.accession\n",
    "    \n",
    "    def setAccession(self,line):\n",
    "        self.accession = line.split()[0].lstrip('>')\n",
    "    \n",
    "    def getX(self):\n",
    "        return self.x\n",
    "    \n",
    "    def setX(self,line):\n",
    "        self.x = line.split()[2].split('=')[1]\n",
    "    \n",
    "    def getY(self):\n",
    "        return self.y\n",
    "    \n",
    "    def setY(self,line):\n",
    "        self.y = line.split()[3].split('=')[1]\n",
    "            \n",
    "    def __repr__(self):\n",
    "        return \"A fasta object for: \" + self.accession + \" at X = \" + self.x + \" and Y = \" + self.y  \n",
    "    \n",
    "    def setGC(self):\n",
    "        if self.GCcontent == None:\n",
    "            print(\"Running gcCalculator on \" + self.accession)\n",
    "            self.GCcontent = gcCalculator(self.sequence)\n",
    "        return self.GCcontent\n",
    "    \n",
    "    "
   ]
  },
  {
   "cell_type": "markdown",
   "metadata": {},
   "source": [
    "## How can we parse a large multi-FASTA and generate a list of Fasta objects?"
   ]
  },
  {
   "cell_type": "code",
   "execution_count": null,
   "metadata": {},
   "outputs": [],
   "source": [
    "fastas = []\n",
    "\n",
    "with open(\"BINF6112.lab.multi.fa\", 'r') as mf:\n",
    "    for line in mf.readlines():\n",
    "        line = line.rstrip()\n",
    "        if line.startswith(\">\"):\n",
    "            faObj = Fasta()\n",
    "            fastas.append(faObj)\n",
    "            if faObj.sequence == \"\":\n",
    "                faObj.setAccession(line)\n",
    "                faObj.setRank(line)\n",
    "                faObj.setLength(line)\n",
    "                faObj.setX(line)\n",
    "                faObj.setY(line)\n",
    "                \n",
    "        else:\n",
    "            faObj.setSeq(line)"
   ]
  },
  {
   "cell_type": "code",
   "execution_count": null,
   "metadata": {},
   "outputs": [],
   "source": [
    "print(\"There were this many fasta objects created: \\n    \" + str(len(fastas)) )\n",
    "\n",
    "!echo 'There were this many seuences in the file: ' \n",
    "! grep '>' BINF6112.lab.multi.fa | wc -l "
   ]
  },
  {
   "cell_type": "markdown",
   "metadata": {},
   "source": [
    "### Great! Now let's write a function to calculate some statistics on each sequence!\n",
    "### Notice how *self.GContent* is always set to None.\n",
    "\n",
    "\n",
    "### How can we update this for each Fasta object? "
   ]
  },
  {
   "cell_type": "code",
   "execution_count": null,
   "metadata": {},
   "outputs": [],
   "source": [
    "def gcCalculator(seq):\n",
    "        G = seq.upper().count('G')\n",
    "        C = seq.upper().count('C')\n",
    "        percentGC = ((G + C) / len(seq))*100\n",
    "        GCcontent = \"%.2f\" % round(percentGC,2)\n",
    "        return GCcontent\n",
    "\n",
    "## Add This setter method is added to the class definition!\n",
    "#    def setGC(self):\n",
    "#        if self.GCcontent == None:\n",
    "#            print(\"Running gcCalculator on \" + self.accession)\n",
    "#            self.GCcontent = gcCalculator(self.sequence)\n",
    "#        return self.GCcontent\n",
    "\n",
    "## This global method is used by our setter. \n",
    "\n",
    "for f in fastas:\n",
    "    x = f.setGC()\n",
    "    print(x)"
   ]
  },
  {
   "cell_type": "code",
   "execution_count": null,
   "metadata": {},
   "outputs": [],
   "source": [
    "fastas[0]"
   ]
  },
  {
   "cell_type": "code",
   "execution_count": null,
   "metadata": {},
   "outputs": [],
   "source": [
    "help(Fasta)"
   ]
  },
  {
   "cell_type": "code",
   "execution_count": null,
   "metadata": {},
   "outputs": [],
   "source": []
  }
 ],
 "metadata": {
  "kernelspec": {
   "display_name": "Python 3",
   "language": "python",
   "name": "python3"
  },
  "language_info": {
   "codemirror_mode": {
    "name": "ipython",
    "version": 3
   },
   "file_extension": ".py",
   "mimetype": "text/x-python",
   "name": "python",
   "nbconvert_exporter": "python",
   "pygments_lexer": "ipython3",
   "version": "3.6.8"
  }
 },
 "nbformat": 4,
 "nbformat_minor": 2
}
